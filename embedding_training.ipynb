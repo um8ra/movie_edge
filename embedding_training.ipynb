{
 "cells": [
  {
   "cell_type": "code",
   "execution_count": null,
   "metadata": {},
   "outputs": [],
   "source": [
    "import pandas as pd\n",
    "import os\n",
    "from pathlib import Path\n",
    "from tensorflow import keras as k  # using 2.0.0-rc0\n",
    "import numpy as np\n",
    "import random\n",
    "from scipy.sparse import dok_matrix, random, coo_matrix\n",
    "np.set_printoptions(linewidth=128)\n",
    "%matplotlib inline"
   ]
  },
  {
   "cell_type": "code",
   "execution_count": null,
   "metadata": {},
   "outputs": [],
   "source": [
    "path = Path('ml-20m')  # First time using pathlib, pretty neat. \"division\" is cool"
   ]
  },
  {
   "cell_type": "code",
   "execution_count": null,
   "metadata": {},
   "outputs": [],
   "source": [
    "USERID = 'userId'\n",
    "MOVIEID = 'movieId'\n",
    "RATING = 'rating'\n",
    "TITLE = 'title'\n",
    "GENRES = 'genres'"
   ]
  },
  {
   "cell_type": "code",
   "execution_count": null,
   "metadata": {},
   "outputs": [],
   "source": [
    "list(path.iterdir())"
   ]
  },
  {
   "cell_type": "code",
   "execution_count": null,
   "metadata": {},
   "outputs": [],
   "source": [
    "df_ratings = pd.read_csv(path / 'ratings.csv', index_col=[USERID, MOVIEID])[RATING]"
   ]
  },
  {
   "cell_type": "code",
   "execution_count": null,
   "metadata": {},
   "outputs": [],
   "source": [
    "df_ratings.groupby([MOVIEID]).count().value_counts()"
   ]
  },
  {
   "cell_type": "code",
   "execution_count": null,
   "metadata": {},
   "outputs": [],
   "source": [
    "df_ratings = df_ratings / 5.0  # Encodes the input between [0, 1]"
   ]
  },
  {
   "cell_type": "code",
   "execution_count": null,
   "metadata": {},
   "outputs": [],
   "source": [
    "# WARNING: MOVIEID is not a 0 through X where X is len(df_movies)\n",
    "df_movies = pd.read_csv(path / 'movies.csv', index_col=MOVIEID)\n",
    "# That is why we're extracting the index to give us an ordering\n",
    "df_movies_index = df_movies.index"
   ]
  },
  {
   "cell_type": "code",
   "execution_count": null,
   "metadata": {},
   "outputs": [],
   "source": [
    "movie_id_decoder = {val: ix for ix, val in enumerate(df_movies_index)}"
   ]
  },
  {
   "cell_type": "code",
   "execution_count": null,
   "metadata": {},
   "outputs": [],
   "source": [
    "df_movies.head()"
   ]
  },
  {
   "cell_type": "code",
   "execution_count": null,
   "metadata": {
    "scrolled": true
   },
   "outputs": [],
   "source": [
    "df_ratings.head()"
   ]
  },
  {
   "cell_type": "code",
   "execution_count": null,
   "metadata": {},
   "outputs": [],
   "source": [
    "distinct_users = set(df_ratings.index.get_level_values(USERID))\n",
    "distinct_users_count = len(distinct_users)\n",
    "distinct_movies = set(df_movies.index.get_level_values(MOVIEID))\n",
    "distinct_movies_count = len(distinct_movies)\n"
   ]
  },
  {
   "cell_type": "code",
   "execution_count": null,
   "metadata": {},
   "outputs": [],
   "source": [
    "def form_input_output(_user_ratings, __sparse__=True):\n",
    "    _len_user_ratings = len(_user_ratings)\n",
    "    _len_user_ratings_minus_one = _len_user_ratings - 1\n",
    "    _sparse_row_count = _len_user_ratings * (_len_user_ratings_minus_one)\n",
    "    \n",
    "    if __sparse__:\n",
    "        _sparse_matrix_x = dok_matrix((_len_user_ratings * (_len_user_ratings_minus_one), \n",
    "                                  distinct_movies_count))\n",
    "        _sparse_matrix_y = dok_matrix((_len_user_ratings * (_len_user_ratings_minus_one), \n",
    "                                  distinct_movies_count))\n",
    "    else:\n",
    "        _sparse_matrix_x = np.zeros((_sparse_row_count, distinct_movies_count))\n",
    "        _sparse_matrix_y = np.zeros((_sparse_row_count, distinct_movies_count))\n",
    "    \n",
    "    _outer_loop_num = 0\n",
    "    _inner_loop_num = 0\n",
    "    for _ix, _i_rating in _user_ratings.items():\n",
    "        _row_start = _outer_loop_num * _len_user_ratings_minus_one\n",
    "        _row_stop  = (_outer_loop_num + 1) * _len_user_ratings_minus_one\n",
    "#         print('Row Start: {} \\t Row Stop: {}'.format(_row_start, _row_stop))\n",
    "        _ix_movie_index = movie_id_decoder[_ix]\n",
    "        _sparse_matrix_x[_row_start: _row_stop, _ix_movie_index] = _i_rating\n",
    "        \n",
    "        # Yes, the _inner_loop_num shouldn't get reset\n",
    "        for _jx, _j_rating in ((i, j) for i, j in _user_ratings.items() if i != _ix):\n",
    "            _jx_movie_index = movie_id_decoder[_jx]\n",
    "#             print('Movie Num: {} \\t Movie IX: {} \\t Movie Rating: {}'.format(\n",
    "#                 _jx, _jx_movie_index, _j_rating))\n",
    "            _sparse_matrix_y[_inner_loop_num, _jx_movie_index] = _j_rating\n",
    "            _inner_loop_num += 1\n",
    "            \n",
    "        _outer_loop_num += 1\n",
    "    if __sparse__:\n",
    "        # Torch likes coo\n",
    "        return _sparse_matrix_x.tocoo(), _sparse_matrix_y.tocoo()\n",
    "    else:\n",
    "        return _sparse_matrix_x, _sparse_matrix_y\n",
    "    "
   ]
  },
  {
   "cell_type": "code",
   "execution_count": null,
   "metadata": {},
   "outputs": [],
   "source": [
    "model = k.models.Sequential()\n",
    "model.add(k.layers.Dense(128, activation='linear', input_dim=distinct_movies_count))\n",
    "model.add(k.layers.Dense(distinct_movies_count, activation='linear'))\n",
    "model.compile(loss='mse', optimizer=k.optimizers.Adam())"
   ]
  },
  {
   "cell_type": "code",
   "execution_count": null,
   "metadata": {
    "scrolled": true
   },
   "outputs": [],
   "source": [
    "%%time\n",
    "ix = 0\n",
    "\n",
    "# Do we want to accumulate and shuffle batches of users?\n",
    "data_x = list()\n",
    "data_y = list()\n",
    "\n",
    "for user_id in distinct_users:\n",
    "    print(user_id)\n",
    "    user_ratings = df_ratings.loc[user_id]\n",
    "    \n",
    "    batch_x, batch_y = form_input_output(user_ratings)\n",
    "    data_x.append(batch_x)\n",
    "    data_y.append(batch_y)\n",
    "    \n",
    "#     model.fit(x=batch_x, y=batch_y)\n",
    "        \n",
    "    if ix == 1000:\n",
    "        break\n",
    "    ix += 1\n",
    "    \n",
    "#     print(user)\n",
    "#     print(movie)\n",
    "#     print(row)\n",
    "#     print(movie_one_hot)\n",
    "#     print(output_vector)\n",
    "#     print(dict_cache)\n",
    "print('done')\n",
    "#     model.fit(movie_one_hot, output_vector)"
   ]
  },
  {
   "cell_type": "code",
   "execution_count": null,
   "metadata": {},
   "outputs": [],
   "source": [
    "sum([len(i) for i in data_x])"
   ]
  }
 ],
 "metadata": {
  "kernelspec": {
   "display_name": "Python 3",
   "language": "python",
   "name": "python3"
  },
  "language_info": {
   "codemirror_mode": {
    "name": "ipython",
    "version": 3
   },
   "file_extension": ".py",
   "mimetype": "text/x-python",
   "name": "python",
   "nbconvert_exporter": "python",
   "pygments_lexer": "ipython3",
   "version": "3.7.3"
  }
 },
 "nbformat": 4,
 "nbformat_minor": 2
}
