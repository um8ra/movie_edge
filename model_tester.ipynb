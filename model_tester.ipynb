{
 "cells": [
  {
   "cell_type": "code",
   "execution_count": 1,
   "metadata": {},
   "outputs": [],
   "source": [
    "from gensim.models import Word2Vec\n",
    "from sklearn.model_selection import ParameterGrid\n",
    "import pandas as pd\n",
    "import h5py\n",
    "import os\n",
    "import logging"
   ]
  },
  {
   "cell_type": "code",
   "execution_count": 2,
   "metadata": {},
   "outputs": [],
   "source": [
    "def show_synonyms(search_str, num_synonyms):\n",
    "    synonym_list = list()\n",
    "    movie_index = df_movies[df_movies[TITLE].str.match(search_str)]\n",
    "    print(movie_index)\n",
    "    for mi in movie_index.index:\n",
    "        synonym_list.extend([(i, df_movies.loc[int(i[0])][TITLE]) for i in \n",
    "                             list(model.wv.most_similar(str(mi), topn=num_synonyms))])\n",
    "    return synonym_list"
   ]
  },
  {
   "cell_type": "code",
   "execution_count": 10,
   "metadata": {},
   "outputs": [],
   "source": [
    "MOVIE_ID = 'movieId'\n",
    "TITLE = 'title'"
   ]
  },
  {
   "cell_type": "code",
   "execution_count": 11,
   "metadata": {},
   "outputs": [],
   "source": [
    "df_movies = pd.read_csv('ml-20m/movies.csv', index_col=MOVIE_ID)"
   ]
  },
  {
   "cell_type": "code",
   "execution_count": 16,
   "metadata": {},
   "outputs": [],
   "source": [
    "model = Word2Vec.load('w2v_vs_128_mc_1_it_1_wn_5774_ng_0.gensim')"
   ]
  },
  {
   "cell_type": "code",
   "execution_count": 17,
   "metadata": {},
   "outputs": [
    {
     "name": "stdout",
     "output_type": "stream",
     "text": [
      "                                  title                                 genres\n",
      "movieId                                                                       \n",
      "2571                 Matrix, The (1999)                 Action|Sci-Fi|Thriller\n",
      "6365        Matrix Reloaded, The (2003)  Action|Adventure|Sci-Fi|Thriller|IMAX\n",
      "6934     Matrix Revolutions, The (2003)  Action|Adventure|Sci-Fi|Thriller|IMAX\n"
     ]
    },
    {
     "data": {
      "text/plain": [
       "[(('2959', 0.9110993146896362), 'Fight Club (1999)'),\n",
       " (('3578', 0.9005305171012878), 'Gladiator (2000)'),\n",
       " (('1089', 0.8712561130523682), 'Reservoir Dogs (1992)'),\n",
       " (('3147', 0.8638203144073486), 'Green Mile, The (1999)'),\n",
       " (('2762', 0.862714946269989), 'Sixth Sense, The (1999)'),\n",
       " (('8360', 0.9223024249076843), 'Shrek 2 (2004)'),\n",
       " (('8665', 0.9017325639724731), 'Bourne Supremacy, The (2004)'),\n",
       " (('33493', 0.8821098804473877),\n",
       "  'Star Wars: Episode III - Revenge of the Sith (2005)'),\n",
       " (('7143', 0.8652002811431885), 'Last Samurai, The (2003)'),\n",
       " (('8644', 0.8592684268951416), 'I, Robot (2004)'),\n",
       " (('33493', 0.8914092779159546),\n",
       "  'Star Wars: Episode III - Revenge of the Sith (2005)'),\n",
       " (('6373', 0.8618676662445068), 'Bruce Almighty (2003)'),\n",
       " (('6537', 0.848228931427002), 'Terminator 3: Rise of the Machines (2003)'),\n",
       " (('7143', 0.8445373773574829), 'Last Samurai, The (2003)'),\n",
       " (('7458', 0.8437908887863159), 'Troy (2004)')]"
      ]
     },
     "execution_count": 17,
     "metadata": {},
     "output_type": "execute_result"
    }
   ],
   "source": [
    "show_synonyms('.*Matrix.*', 5)"
   ]
  },
  {
   "cell_type": "code",
   "execution_count": null,
   "metadata": {},
   "outputs": [],
   "source": []
  }
 ],
 "metadata": {
  "kernelspec": {
   "display_name": "Python 3",
   "language": "python",
   "name": "python3"
  },
  "language_info": {
   "codemirror_mode": {
    "name": "ipython",
    "version": 3
   },
   "file_extension": ".py",
   "mimetype": "text/x-python",
   "name": "python",
   "nbconvert_exporter": "python",
   "pygments_lexer": "ipython3",
   "version": "3.7.4"
  }
 },
 "nbformat": 4,
 "nbformat_minor": 2
}
