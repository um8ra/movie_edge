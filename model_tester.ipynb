{
 "cells": [
  {
   "cell_type": "code",
   "execution_count": null,
   "metadata": {},
   "outputs": [],
   "source": [
    "from gensim.models import Word2Vec\n",
    "from sklearn.model_selection import ParameterGrid\n",
    "import pandas as pd\n",
    "import h5py\n",
    "import os\n",
    "import logging"
   ]
  },
  {
   "cell_type": "code",
   "execution_count": null,
   "metadata": {},
   "outputs": [],
   "source": [
    "def show_synonyms(model, search_str, num_synonyms, verbose=True):\n",
    "    synonym_list = list()\n",
    "    movie_index = df_movies[df_movies[TITLE].str.match(search_str)]\n",
    "    for mi in movie_index.index:\n",
    "        synonym_list.extend([(i, df_movies.loc[int(i[0])][TITLE]) for i in \n",
    "                             list(model.wv.most_similar(str(mi), topn=num_synonyms))])\n",
    "    cosine_similarity = pd.Series([i[0][1] for i in synonym_list])\n",
    "    mean = cosine_similarity.mean()\n",
    "    stddev = cosine_similarity.std()\n",
    "    if verbose:\n",
    "        print(movie_index)\n",
    "        print('Mean: {} \\t StdDev: {}'.format(mean, stddev))\n",
    "    return synonym_list, mean, stddev"
   ]
  },
  {
   "cell_type": "code",
   "execution_count": null,
   "metadata": {},
   "outputs": [],
   "source": [
    "MOVIE_TARGETS = '|'.join([\n",
    "    '(^Matrix, The)',\n",
    "    '(Saving Private Ryan)',\n",
    "    '(Lawrence of Arabia)',\n",
    "    '(Bridesmaids)',\n",
    "    '(^Notebook, The \\(2004)',\n",
    "])"
   ]
  },
  {
   "cell_type": "code",
   "execution_count": null,
   "metadata": {},
   "outputs": [],
   "source": [
    "MOVIE_ID = 'movieId'\n",
    "TITLE = 'title'"
   ]
  },
  {
   "cell_type": "code",
   "execution_count": null,
   "metadata": {},
   "outputs": [],
   "source": [
    "df_movies = pd.read_csv('ml-20m/movies.csv', index_col=MOVIE_ID)"
   ]
  },
  {
   "cell_type": "code",
   "execution_count": null,
   "metadata": {},
   "outputs": [],
   "source": [
    "files = [f for f in os.listdir() if f[-7:] == '.gensim']"
   ]
  },
  {
   "cell_type": "code",
   "execution_count": null,
   "metadata": {},
   "outputs": [],
   "source": [
    "results = pd.DataFrame([[f] + list(show_synonyms(Word2Vec.load(f), MOVIE_TARGETS, 5, False)[1:]) for f in files], columns=['file', 'mean', 'stddev'])"
   ]
  },
  {
   "cell_type": "code",
   "execution_count": null,
   "metadata": {},
   "outputs": [],
   "source": [
    "results.sort_values(by=['mean'])"
   ]
  },
  {
   "cell_type": "code",
   "execution_count": null,
   "metadata": {},
   "outputs": [],
   "source": [
    "# w2v_vs_64_sg_0_hs_1_mc_1_it_1_wn_5774_ng_0.gensim not horrible, not great max ~0.7\n",
    "# w2v_vs_64_sg_1_hs_1_mc_1_it_1_wn_5774_ng_0.gensim on point, quite good, max ~0.9\n",
    "# w2v_vs_64_sg_0_hs_1_mc_1_it_1_wn_5774_ng_2.gensim not horrible, not great max ~0.64\n",
    "# w2v_vs_64_sg_0_hs_0_mc_1_it_1_wn_5774_ng_0.gensim almost junk, max ~0.47\n",
    "# w2v_vs_64_sg_1_hs_0_mc_1_it_1_wn_5774_ng_0.gensim almost junk max ~0.47\n",
    "# w2v_vs_64_sg_1_hs_0_mc_1_it_1_wn_5774_ng_2.gensim super good max ~0.95\n",
    "# w2v_vs_64_sg_1_hs_1_mc_1_it_1_wn_5774_ng_2.gensim super good max ~0.95\n",
    "# w2v_vs_64_sg_0_hs_0_mc_1_it_1_wn_5774_ng_2.gensim mixed bag max ~0.86\n",
    "model = Word2Vec.load('w2v_vs_64_sg_0_hs_1_mc_1_it_1_wn_5774_ng_0.gensim')\n",
    "show_synonyms(model, MOVIE_TARGETS, 5)"
   ]
  },
  {
   "cell_type": "code",
   "execution_count": null,
   "metadata": {},
   "outputs": [],
   "source": []
  },
  {
   "cell_type": "code",
   "execution_count": null,
   "metadata": {},
   "outputs": [],
   "source": []
  }
 ],
 "metadata": {
  "kernelspec": {
   "display_name": "Python 3",
   "language": "python",
   "name": "python3"
  },
  "language_info": {
   "codemirror_mode": {
    "name": "ipython",
    "version": 3
   },
   "file_extension": ".py",
   "mimetype": "text/x-python",
   "name": "python",
   "nbconvert_exporter": "python",
   "pygments_lexer": "ipython3",
   "version": "3.7.4"
  }
 },
 "nbformat": 4,
 "nbformat_minor": 2
}
