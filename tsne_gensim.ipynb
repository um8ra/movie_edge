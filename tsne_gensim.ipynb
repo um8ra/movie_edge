{
 "cells": [
  {
   "cell_type": "code",
   "execution_count": null,
   "metadata": {},
   "outputs": [],
   "source": [
    "from gensim.models import Word2Vec\n",
    "import pandas as pd\n",
    "from sklearn.manifold import TSNE\n",
    "import os\n",
    "import numpy as np\n",
    "import sys\n",
    "\n",
    "# Installation:\n",
    "# https://pypi.org/project/fitsne/0.1.10/\n",
    "# I *also* downloaded fftw and installed using\n",
    "# http://fftw.org/install/mac.html with commands below\n",
    "# $./configure --enable-threads && make\n",
    "# $ sudo make install\n",
    "# I'm unsure if that's needed, or if the pip commands listed on the pypi link \n",
    "# are enough to get it working. Things seem to execute on multiple cores\n",
    "\n",
    "\n",
    "# You NEED to clone https://github.com/KlugerLab/FIt-SNE\n",
    "# Then you NEED to execute\n",
    "# g++ -std=c++11 -O3  src/sptree.cpp src/tsne.cpp src/nbodyfft.cpp  -o bin/fast_tsne -pthread -lfftw3 -lm\n",
    "# Then you NEED to add the repository path (which will have your compiled code in ./bin) to sys\n",
    "# As shown on the next line\n",
    "sys.path.append('/Users/danielklass/Dropbox/GaTech/cse6242_project/FIt-SNE')\n",
    "\n",
    "from fast_tsne import fast_tsne\n",
    "RAND = 42"
   ]
  },
  {
   "cell_type": "code",
   "execution_count": null,
   "metadata": {},
   "outputs": [],
   "source": [
    "workers = os.cpu_count() - 2"
   ]
  },
  {
   "cell_type": "code",
   "execution_count": null,
   "metadata": {},
   "outputs": [],
   "source": [
    "MOVIE_ID = 'movieId'\n",
    "TITLE = 'title'\n",
    "VECTOR = 'vector'"
   ]
  },
  {
   "cell_type": "code",
   "execution_count": null,
   "metadata": {},
   "outputs": [],
   "source": [
    "model = Word2Vec.load(os.path.join(\n",
    "    'gensim_models2/w2v_vs_16_sg_1_hs_1_mc_1_it_1_wn_32_ng_2.gensim'))"
   ]
  },
  {
   "cell_type": "code",
   "execution_count": null,
   "metadata": {},
   "outputs": [],
   "source": [
    "df_movies = pd.read_csv('ml-20m/movies.csv', index_col=MOVIE_ID)"
   ]
  },
  {
   "cell_type": "code",
   "execution_count": null,
   "metadata": {},
   "outputs": [],
   "source": [
    "def get_movie_vector(i):\n",
    "    try:\n",
    "        return model.wv.get_vector(str(i))\n",
    "    except KeyError:\n",
    "        return np.nan"
   ]
  },
  {
   "cell_type": "code",
   "execution_count": null,
   "metadata": {},
   "outputs": [],
   "source": [
    "df_movies[VECTOR] = df_movies.index.get_level_values(MOVIE_ID).map(get_movie_vector)"
   ]
  },
  {
   "cell_type": "code",
   "execution_count": null,
   "metadata": {},
   "outputs": [],
   "source": [
    "df_movies = df_movies[pd.notnull(df_movies[VECTOR])]"
   ]
  },
  {
   "cell_type": "code",
   "execution_count": null,
   "metadata": {},
   "outputs": [],
   "source": [
    "vectors = df_movies[VECTOR].to_numpy()"
   ]
  },
  {
   "cell_type": "code",
   "execution_count": null,
   "metadata": {},
   "outputs": [],
   "source": [
    "vectors = np.vstack(vectors)"
   ]
  },
  {
   "cell_type": "code",
   "execution_count": null,
   "metadata": {},
   "outputs": [],
   "source": [
    "X_tsne = fast_tsne(vectors, seed=RAND, nthreads=workers)"
   ]
  },
  {
   "cell_type": "code",
   "execution_count": null,
   "metadata": {},
   "outputs": [],
   "source": [
    "# X_tSNE = TSNE(n_components=2, random_state=RAND).fit_transform(vectors[0:200])"
   ]
  }
 ],
 "metadata": {
  "kernelspec": {
   "display_name": "Python 3",
   "language": "python",
   "name": "python3"
  },
  "language_info": {
   "codemirror_mode": {
    "name": "ipython",
    "version": 3
   },
   "file_extension": ".py",
   "mimetype": "text/x-python",
   "name": "python",
   "nbconvert_exporter": "python",
   "pygments_lexer": "ipython3",
   "version": "3.7.3"
  }
 },
 "nbformat": 4,
 "nbformat_minor": 2
}
