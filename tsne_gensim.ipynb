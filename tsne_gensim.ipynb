{
 "cells": [
  {
   "cell_type": "code",
   "execution_count": null,
   "metadata": {},
   "outputs": [],
   "source": [
    "from gensim.models import Word2Vec\n",
    "import pandas as pd\n",
    "import os\n",
    "import numpy as np\n",
    "import sys\n",
    "from bokeh.plotting import figure, output_file, show\n",
    "from bokeh.models import ColumnDataSource\n",
    "from sklearn.cluster import AgglomerativeClustering\n",
    "from bokeh import palettes\n",
    "from sqlalchemy import create_engine\n",
    "\n",
    "# Installation (if fast = True below):\n",
    "# https://pypi.org/project/fitsne/0.1.10/\n",
    "# I'm unsure if the fftw.org part (below) is needed, \n",
    "# or if the pip commands listed on the pypi link \n",
    "# are enough to get it working (and get it working on multiple cores).\n",
    "# Download and execute:\n",
    "# http://fftw.org/install/mac.html with commands below\n",
    "# $./configure --enable-threads && make\n",
    "# $ sudo make install\n",
    "# You NEED to clone https://github.com/KlugerLab/FIt-SNE\n",
    "# Then you NEED to execute\n",
    "# g++ -std=c++11 -O3  src/sptree.cpp src/tsne.cpp src/nbodyfft.cpp  -o bin/fast_tsne -pthread -lfftw3 -lm\n",
    "# Then you NEED to add the repository path (which will have your compiled code in ./bin)\n",
    "# to sys as shown on the next lines\n",
    "\n",
    "fast = True\n",
    "if fast:\n",
    "    sys.path.append('/Users/danielklass/Dropbox/GaTech/cse6242_project/FIt-SNE')\n",
    "    from fast_tsne import fast_tsne # O(N) via FFT, see all the comments above...\n",
    "else:\n",
    "    from sklearn.manifold import TSNE # O(Nlog(N))"
   ]
  },
  {
   "cell_type": "code",
   "execution_count": null,
   "metadata": {},
   "outputs": [],
   "source": [
    "RAND = 4\n",
    "workers = os.cpu_count() - 2"
   ]
  },
  {
   "cell_type": "code",
   "execution_count": null,
   "metadata": {},
   "outputs": [],
   "source": [
    "MOVIE_ID = 'movieId'\n",
    "TITLE = 'title'\n",
    "VECTOR = 'vector'\n",
    "GENRES = 'genres'\n",
    "X = 'x'\n",
    "Y = 'y'\n",
    "CLUSTER = 'cluster'\n",
    "COLOR = 'color'"
   ]
  },
  {
   "cell_type": "code",
   "execution_count": null,
   "metadata": {},
   "outputs": [],
   "source": [
    "model_filename = 'w2v_vs_16_sg_1_hs_1_mc_1_it_1_wn_32_ng_2.gensim'\n",
    "model = Word2Vec.load(os.path.join('gensim_models2', model_filename))"
   ]
  },
  {
   "cell_type": "code",
   "execution_count": null,
   "metadata": {},
   "outputs": [],
   "source": [
    "df_movies = pd.read_csv('ml-20m/movies.csv', index_col=MOVIE_ID)"
   ]
  },
  {
   "cell_type": "code",
   "execution_count": null,
   "metadata": {},
   "outputs": [],
   "source": [
    "def get_movie_vector(i):\n",
    "    try:\n",
    "        return model.wv.get_vector(str(i))\n",
    "    except KeyError:\n",
    "        return np.nan"
   ]
  },
  {
   "cell_type": "code",
   "execution_count": null,
   "metadata": {},
   "outputs": [],
   "source": [
    "df_movies[VECTOR] = df_movies.index.get_level_values(MOVIE_ID).map(get_movie_vector)"
   ]
  },
  {
   "cell_type": "code",
   "execution_count": null,
   "metadata": {},
   "outputs": [],
   "source": [
    "df_movies = df_movies[pd.notnull(df_movies[VECTOR])]"
   ]
  },
  {
   "cell_type": "code",
   "execution_count": null,
   "metadata": {},
   "outputs": [],
   "source": [
    "vectors = df_movies[VECTOR].to_numpy()"
   ]
  },
  {
   "cell_type": "code",
   "execution_count": null,
   "metadata": {},
   "outputs": [],
   "source": [
    "vectors = np.vstack(vectors)"
   ]
  },
  {
   "cell_type": "code",
   "execution_count": null,
   "metadata": {},
   "outputs": [],
   "source": [
    "clustering = AgglomerativeClustering(\n",
    "    n_clusters=128,\n",
    "    linkage='ward',\n",
    ")\n",
    "clusters = clustering.fit(vectors)"
   ]
  },
  {
   "cell_type": "code",
   "execution_count": null,
   "metadata": {},
   "outputs": [],
   "source": [
    "if fast:\n",
    "    # strongly recommended, fast O(N)\n",
    "    tsne_result = fast_tsne(vectors, seed=RAND, nthreads=workers)\n",
    "else:\n",
    "    # never finished, slow O(Nlog(N))\n",
    "    tsne_result = TSNE(vectors, random_state=RAND)"
   ]
  },
  {
   "cell_type": "code",
   "execution_count": null,
   "metadata": {},
   "outputs": [],
   "source": [
    "df_movies[X] = tsne_result[:, 0]\n",
    "df_movies[Y] = tsne_result[:, 1]"
   ]
  },
  {
   "cell_type": "code",
   "execution_count": null,
   "metadata": {},
   "outputs": [],
   "source": [
    "palette = palettes.Category20_20"
   ]
  },
  {
   "cell_type": "code",
   "execution_count": null,
   "metadata": {},
   "outputs": [],
   "source": [
    "clusters.children_.shape"
   ]
  },
  {
   "cell_type": "code",
   "execution_count": null,
   "metadata": {},
   "outputs": [],
   "source": [
    "len(df_movies)"
   ]
  },
  {
   "cell_type": "code",
   "execution_count": null,
   "metadata": {},
   "outputs": [],
   "source": [
    "df_movies[CLUSTER] = clusters.labels_\n",
    "df_movies[COLOR] = df_movies[CLUSTER].map(lambda x: palette[x])"
   ]
  },
  {
   "cell_type": "code",
   "execution_count": null,
   "metadata": {},
   "outputs": [],
   "source": [
    "source = ColumnDataSource(df_movies)\n",
    "TOOLTIPS = [(i, '@{}'.format(i)) for i in [MOVIE_ID, TITLE, X, Y]]\n",
    "fig = figure(plot_width=800, plot_height=800, tooltips=TOOLTIPS, output_backend='webgl')\n",
    "fig.circle('x', 'y', source=source, size=8, color=COLOR)"
   ]
  },
  {
   "cell_type": "code",
   "execution_count": null,
   "metadata": {},
   "outputs": [],
   "source": [
    "output_file('bokeh_{}.html'.format(model_filename), title=model_filename, mode='cdn')"
   ]
  },
  {
   "cell_type": "code",
   "execution_count": null,
   "metadata": {},
   "outputs": [],
   "source": [
    "show(fig)"
   ]
  },
  {
   "cell_type": "code",
   "execution_count": null,
   "metadata": {},
   "outputs": [],
   "source": [
    "df_movies[[TITLE, GENRES, X, Y, CLUSTER, COLOR]].to_csv(\n",
    "    'Movie_Data_{}.tsv'.format(model_filename), sep='\\t')"
   ]
  },
  {
   "cell_type": "code",
   "execution_count": null,
   "metadata": {},
   "outputs": [],
   "source": [
    "# This is used to write data to Django's database\n",
    "df_output = df_movies[[TITLE, GENRES, X, Y, CLUSTER]]\n",
    "df_output = df_output.rename(columns={\n",
    "    'title': 'movie_title',\n",
    "})\n",
    "df_output.index.rename('movie_id', inplace=True)\n",
    "df_output['embedder'] = model_filename"
   ]
  },
  {
   "cell_type": "code",
   "execution_count": null,
   "metadata": {},
   "outputs": [],
   "source": [
    "eng = create_engine('sqlite:///cse6242_team5/db.sqlite3')\n",
    "with eng.begin() as con:\n",
    "    df_output.to_sql('movie_edge_movie', con, if_exists='append')"
   ]
  }
 ],
 "metadata": {
  "kernelspec": {
   "display_name": "Python 3",
   "language": "python",
   "name": "python3"
  },
  "language_info": {
   "codemirror_mode": {
    "name": "ipython",
    "version": 3
   },
   "file_extension": ".py",
   "mimetype": "text/x-python",
   "name": "python",
   "nbconvert_exporter": "python",
   "pygments_lexer": "ipython3",
   "version": "3.7.3"
  }
 },
 "nbformat": 4,
 "nbformat_minor": 2
}
