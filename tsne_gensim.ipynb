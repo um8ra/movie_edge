{
 "cells": [
  {
   "cell_type": "code",
   "execution_count": 69,
   "metadata": {},
   "outputs": [],
   "source": [
    "from gensim.models import Word2Vec\n",
    "import pandas as pd\n",
    "import os\n",
    "import numpy as np\n",
    "import sys\n",
    "from bokeh.plotting import figure, output_file, show\n",
    "from bokeh.models import ColumnDataSource\n",
    "from sklearn.cluster import AgglomerativeClustering\n",
    "from bokeh import palettes\n",
    "from sqlalchemy import create_engine\n",
    "import pickle\n",
    "\n",
    "# Installation (if fast = True below):\n",
    "# https://pypi.org/project/fitsne/0.1.10/\n",
    "# I'm unsure if the fftw.org part (below) is needed, \n",
    "# or if the pip commands listed on the pypi link \n",
    "# are enough to get it working (and get it working on multiple cores).\n",
    "# Download and execute:\n",
    "# http://fftw.org/install/mac.html with commands below\n",
    "# $./configure --enable-threads && make\n",
    "# $ sudo make install\n",
    "# You NEED to clone https://github.com/KlugerLab/FIt-SNE\n",
    "# Then you NEED to execute\n",
    "# g++ -std=c++11 -O3  src/sptree.cpp src/tsne.cpp src/nbodyfft.cpp  -o bin/fast_tsne -pthread -lfftw3 -lm\n",
    "# Then you NEED to add the repository path (which will have your compiled code in ./bin)\n",
    "# to sys as shown on the next lines\n",
    "\n",
    "fast = True\n",
    "if fast:\n",
    "    sys.path.append('C:/users/jtay/Desktop/6242/viz proto/bin')\n",
    "    sys.path.append('C:/users/jtay/Desktop/6242/viz proto')\n",
    "    from fast_tsne import fast_tsne # O(N) via FFT, see all the comments above...\n",
    "else:\n",
    "    from sklearn.manifold import TSNE # O(Nlog(N))"
   ]
  },
  {
   "cell_type": "code",
   "execution_count": 70,
   "metadata": {},
   "outputs": [],
   "source": [
    "RAND = 4\n",
    "workers = os.cpu_count() - 2"
   ]
  },
  {
   "cell_type": "code",
   "execution_count": 71,
   "metadata": {},
   "outputs": [],
   "source": [
    "MOVIE_ID = 'movieId'\n",
    "TITLE = 'title'\n",
    "RATING = 'rating'\n",
    "VECTOR = 'vector'\n",
    "GENRES = 'genres'\n",
    "MEAN = 'mean'\n",
    "COUNT = 'count'\n",
    "STDDEV = 'std'\n",
    "X = 'x'\n",
    "Y = 'y'\n",
    "CLUSTER = 'cluster'\n",
    "COLOR = 'color'"
   ]
  },
  {
   "cell_type": "code",
   "execution_count": 72,
   "metadata": {
    "scrolled": true
   },
   "outputs": [],
   "source": [
    "model_filename = 'w2v_vs_64_sg_1_hs_1_mc_1_it_4_wn_32_ng_2_all_data_trg_val_tst.gensim'\n",
    "model = Word2Vec.load(os.path.join('./gensim_models2', model_filename))"
   ]
  },
  {
   "cell_type": "code",
   "execution_count": 73,
   "metadata": {},
   "outputs": [],
   "source": [
    "with open('metadata.pkl', 'rb') as f:\n",
    "    dict_metadata = pickle.load(f)"
   ]
  },
  {
   "cell_type": "code",
   "execution_count": 74,
   "metadata": {},
   "outputs": [
    {
     "data": {
      "text/plain": [
       "{'Title': 'Toy Story',\n",
       " 'Year': '1995',\n",
       " 'Rated': 'G',\n",
       " 'Released': '22 Nov 1995',\n",
       " 'Runtime': '81 min',\n",
       " 'Genre': 'Animation, Adventure, Comedy, Family, Fantasy',\n",
       " 'Director': 'John Lasseter',\n",
       " 'Writer': 'John Lasseter (original story by), Pete Docter (original story by), Andrew Stanton (original story by), Joe Ranft (original story by), Joss Whedon (screenplay by), Andrew Stanton (screenplay by), Joel Cohen (screenplay by), Alec Sokolow (screenplay by)',\n",
       " 'Actors': 'Tom Hanks, Tim Allen, Don Rickles, Jim Varney',\n",
       " 'Plot': 'A little boy named Andy loves to be in his room, playing with his toys, especially his doll named \"Woody\". But, what do the toys do when Andy is not with them, they come to life. Woody believes that he has life (as a toy) good. However, he must worry about Andy\\'s family moving, and what Woody does not know is about Andy\\'s birthday party. Woody does not realize that Andy\\'s mother gave him an action figure known as Buzz Lightyear, who does not believe that he is a toy, and quickly becomes Andy\\'s new favorite toy. Woody, who is now consumed with jealousy, tries to get rid of Buzz. Then, both Woody and Buzz are now lost. They must find a way to get back to Andy before he moves without them, but they will have to pass through a ruthless toy killer, Sid Phillips.',\n",
       " 'Language': 'English',\n",
       " 'Country': 'USA',\n",
       " 'Awards': 'Nominated for 3 Oscars. Another 23 wins & 17 nominations.',\n",
       " 'Poster': 'https://m.media-amazon.com/images/M/MV5BMDU2ZWJlMjktMTRhMy00ZTA5LWEzNDgtYmNmZTEwZTViZWJkXkEyXkFqcGdeQXVyNDQ2OTk4MzI@._V1_SX300.jpg',\n",
       " 'Ratings': [{'Source': 'Internet Movie Database', 'Value': '8.3/10'},\n",
       "  {'Source': 'Rotten Tomatoes', 'Value': '100%'},\n",
       "  {'Source': 'Metacritic', 'Value': '95/100'}],\n",
       " 'Metascore': '95',\n",
       " 'imdbRating': '8.3',\n",
       " 'imdbVotes': '810,875',\n",
       " 'imdbID': 'tt0114709',\n",
       " 'Type': 'movie',\n",
       " 'DVD': '20 Mar 2001',\n",
       " 'BoxOffice': 'N/A',\n",
       " 'Production': 'Buena Vista',\n",
       " 'Website': 'http://www.disney.com/ToyStory',\n",
       " 'Response': 'True',\n",
       " 'MovieLensGenres': 'Adventure|Animation|Children|Comedy|Fantasy',\n",
       " 'top10Tags': tagId\n",
       " imdb top 250          0.94200\n",
       " cartoon               0.95650\n",
       " children              0.96425\n",
       " pixar                 0.96675\n",
       " kids                  0.97925\n",
       " animation             0.98575\n",
       " kids and family       0.99075\n",
       " pixar animation       0.99600\n",
       " computer animation    0.99850\n",
       " toys                  0.99925\n",
       " Name: 1, dtype: float64}"
      ]
     },
     "execution_count": 74,
     "metadata": {},
     "output_type": "execute_result"
    }
   ],
   "source": [
    "dict_metadata[1]"
   ]
  },
  {
   "cell_type": "code",
   "execution_count": 75,
   "metadata": {},
   "outputs": [],
   "source": [
    "df_movies = pd.read_csv('ml-20m/movies.csv', index_col=MOVIE_ID)"
   ]
  },
  {
   "cell_type": "code",
   "execution_count": 76,
   "metadata": {},
   "outputs": [],
   "source": [
    "df_rating = pd.read_csv('ml-20m/ratings.csv')\n",
    "df_rating = df_rating.groupby([MOVIE_ID])[RATING].agg(['count', 'mean', 'std'])"
   ]
  },
  {
   "cell_type": "code",
   "execution_count": 77,
   "metadata": {},
   "outputs": [],
   "source": [
    "def get_movie_vector(i):\n",
    "    try:\n",
    "        return model.wv.get_vector(str(i))\n",
    "    except KeyError:\n",
    "        return np.nan"
   ]
  },
  {
   "cell_type": "code",
   "execution_count": 78,
   "metadata": {},
   "outputs": [],
   "source": [
    "df_movies[VECTOR] = df_movies.index.get_level_values(MOVIE_ID).map(get_movie_vector)"
   ]
  },
  {
   "cell_type": "code",
   "execution_count": 79,
   "metadata": {},
   "outputs": [
    {
     "data": {
      "text/plain": [
       "27278"
      ]
     },
     "execution_count": 79,
     "metadata": {},
     "output_type": "execute_result"
    }
   ],
   "source": [
    "len(df_movies)"
   ]
  },
  {
   "cell_type": "code",
   "execution_count": 80,
   "metadata": {},
   "outputs": [],
   "source": [
    "df_movies = df_movies[pd.notnull(df_movies[VECTOR])].copy()"
   ]
  },
  {
   "cell_type": "code",
   "execution_count": 81,
   "metadata": {},
   "outputs": [
    {
     "data": {
      "text/plain": [
       "23892"
      ]
     },
     "execution_count": 81,
     "metadata": {},
     "output_type": "execute_result"
    }
   ],
   "source": [
    "len(df_movies)"
   ]
  },
  {
   "cell_type": "code",
   "execution_count": 82,
   "metadata": {},
   "outputs": [],
   "source": [
    "vectors = df_movies[VECTOR].to_numpy()"
   ]
  },
  {
   "cell_type": "code",
   "execution_count": 83,
   "metadata": {},
   "outputs": [],
   "source": [
    "vectors = np.vstack(vectors)"
   ]
  },
  {
   "cell_type": "code",
   "execution_count": 84,
   "metadata": {},
   "outputs": [
    {
     "name": "stdout",
     "output_type": "stream",
     "text": [
      "k=50 done\n",
      "k=500 done\n",
      "k=1500 done\n",
      "k=5000 done\n",
      "k=10000 done\n",
      "k=23892 done\n"
     ]
    }
   ],
   "source": [
    "num_clusters = [50,500,1500,5000,10000,len(vectors)]\n",
    "cluster_list = []\n",
    "for k in num_clusters:\n",
    "    clusterer = AgglomerativeClustering(n_clusters=k,linkage='ward',)\n",
    "    clusterer = clusterer.fit(vectors)\n",
    "    cluster_list.append(clusterer)\n",
    "    print(f'k={k} done')"
   ]
  },
  {
   "cell_type": "code",
   "execution_count": 85,
   "metadata": {},
   "outputs": [],
   "source": [
    "if fast:\n",
    "    # strongly recommended, fast O(N)\n",
    "    tsne_result = fast_tsne(vectors, seed=RAND, nthreads=workers)\n",
    "else:\n",
    "    # never finished, slow O(Nlog(N))\n",
    "    tsne_result = TSNE(vectors, random_state=RAND)"
   ]
  },
  {
   "cell_type": "code",
   "execution_count": 86,
   "metadata": {},
   "outputs": [],
   "source": [
    "df_movies[X] = tsne_result[:, 0]\n",
    "df_movies[Y] = tsne_result[:, 1]"
   ]
  },
  {
   "cell_type": "code",
   "execution_count": 87,
   "metadata": {},
   "outputs": [],
   "source": [
    "# palette = palettes.Category20_20"
   ]
  },
  {
   "cell_type": "code",
   "execution_count": 88,
   "metadata": {},
   "outputs": [
    {
     "name": "stdout",
     "output_type": "stream",
     "text": [
      "6\n",
      "(23891, 2)\n",
      "(23891, 2)\n",
      "(23891, 2)\n",
      "(23891, 2)\n",
      "(23891, 2)\n",
      "(23891, 2)\n"
     ]
    }
   ],
   "source": [
    "print(len(cluster_list))\n",
    "for clusterer in cluster_list:\n",
    "    print(clusterer.children_.shape)"
   ]
  },
  {
   "cell_type": "code",
   "execution_count": 89,
   "metadata": {},
   "outputs": [
    {
     "data": {
      "text/plain": [
       "23892"
      ]
     },
     "execution_count": 89,
     "metadata": {},
     "output_type": "execute_result"
    }
   ],
   "source": [
    "len(df_movies)"
   ]
  },
  {
   "cell_type": "code",
   "execution_count": 90,
   "metadata": {},
   "outputs": [],
   "source": [
    "# df_movies = bak.copy()\n",
    "for i,clusterer in enumerate(cluster_list):\n",
    "    df_movies[f'L{i}'] =clusterer.labels_\n",
    "bak = df_movies.copy()"
   ]
  },
  {
   "cell_type": "code",
   "execution_count": 91,
   "metadata": {},
   "outputs": [],
   "source": [
    "# source = ColumnDataSource(df_movies)\n",
    "# TOOLTIPS = [(i, '@{}'.format(i)) for i in [MOVIE_ID, TITLE, X, Y]]\n",
    "# fig = figure(plot_width=800, plot_height=800, tooltips=TOOLTIPS, output_backend='webgl')\n",
    "# fig.circle('x', 'y', source=source, size=8, color=COLOR)\n",
    "\n",
    "for level in [f'L{i}' for i in range(6)]:\n",
    "    df_movies[level+'x'] = df_movies.groupby(level)['x'].transform('mean')\n",
    "    df_movies[level+'y'] = df_movies.groupby(level)['y'].transform('mean')\n",
    "\n",
    "# print(df_movies.head()['L0x'])\n",
    "for level in [f'L{i}' for i in range(6)]:\n",
    "    del df_movies[level]"
   ]
  },
  {
   "cell_type": "code",
   "execution_count": 92,
   "metadata": {},
   "outputs": [],
   "source": [
    "# output_file('bokeh_{}.html'.format(model_filename), title=model_filename, mode='cdn')"
   ]
  },
  {
   "cell_type": "code",
   "execution_count": 93,
   "metadata": {},
   "outputs": [],
   "source": [
    "# show(fig)"
   ]
  },
  {
   "cell_type": "code",
   "execution_count": 94,
   "metadata": {},
   "outputs": [
    {
     "name": "stdout",
     "output_type": "stream",
     "text": [
      "         count      mean       std\n",
      "movieId                           \n",
      "1        49695  3.921240  0.889012\n",
      "2        22243  3.211977  0.951150\n",
      "3        12735  3.151040  1.006642\n",
      "4         2756  2.861393  1.095702\n",
      "5        12161  3.064592  0.982140\n",
      "                                      title  \\\n",
      "movieId                                       \n",
      "1                          Toy Story (1995)   \n",
      "2                            Jumanji (1995)   \n",
      "3                   Grumpier Old Men (1995)   \n",
      "4                  Waiting to Exhale (1995)   \n",
      "5        Father of the Bride Part II (1995)   \n",
      "\n",
      "                                              genres  \\\n",
      "movieId                                                \n",
      "1        Adventure|Animation|Children|Comedy|Fantasy   \n",
      "2                         Adventure|Children|Fantasy   \n",
      "3                                     Comedy|Romance   \n",
      "4                               Comedy|Drama|Romance   \n",
      "5                                             Comedy   \n",
      "\n",
      "                                                    vector        L0x  \\\n",
      "movieId                                                                 \n",
      "1        [0.059872735, -0.36095208, -0.077433385, 0.011... -25.121387   \n",
      "2        [0.1691944, -0.062943615, -0.10992637, -0.4388... -24.079591   \n",
      "3        [0.5042098, 0.28392687, -0.12367318, -0.100494... -19.071078   \n",
      "4        [0.19736828, 0.22314307, -0.60929656, -0.52939... -24.079591   \n",
      "5        [0.52236795, 0.23525663, -0.40892157, -0.26716... -19.071078   \n",
      "\n",
      "               L0y        L1x        L1y        L2x        L2y        L3x  \\\n",
      "movieId                                                                     \n",
      "1       -14.457901 -26.261216 -17.192878 -24.556549 -19.140869 -26.546903   \n",
      "2       -40.059068 -23.398433 -37.803330 -23.793513 -38.014708 -23.621806   \n",
      "3       -33.318404 -19.104410 -34.704931 -19.565281 -36.100801 -19.259646   \n",
      "4       -40.059068 -26.348962 -42.118087 -25.380020 -41.287062 -25.380020   \n",
      "5       -33.318404 -19.104410 -34.704931 -19.565281 -36.100801 -19.259646   \n",
      "\n",
      "               L3y        L4x        L4y        L5x        L5y  \n",
      "movieId                                                         \n",
      "1       -26.316064 -26.546903 -26.316064 -24.818191 -33.915651  \n",
      "2       -37.434528 -23.729606 -36.868994 -23.699334 -36.924182  \n",
      "3       -35.792775 -19.150054 -35.960445 -19.133236 -35.903725  \n",
      "4       -41.287062 -25.443337 -40.919109 -25.145826 -40.735246  \n",
      "5       -35.792775 -19.150054 -35.960445 -19.166872 -36.017165  \n"
     ]
    }
   ],
   "source": [
    "del df_movies['x']\n",
    "del df_movies['y']\n",
    "print(df_rating.head())\n",
    "print(df_movies.head())\n"
   ]
  },
  {
   "cell_type": "code",
   "execution_count": 95,
   "metadata": {},
   "outputs": [
    {
     "name": "stdout",
     "output_type": "stream",
     "text": [
      "                                      title  \\\n",
      "movieId                                       \n",
      "1                          Toy Story (1995)   \n",
      "2                            Jumanji (1995)   \n",
      "3                   Grumpier Old Men (1995)   \n",
      "4                  Waiting to Exhale (1995)   \n",
      "5        Father of the Bride Part II (1995)   \n",
      "\n",
      "                                              genres  \\\n",
      "movieId                                                \n",
      "1        Adventure|Animation|Children|Comedy|Fantasy   \n",
      "2                         Adventure|Children|Fantasy   \n",
      "3                                     Comedy|Romance   \n",
      "4                               Comedy|Drama|Romance   \n",
      "5                                             Comedy   \n",
      "\n",
      "                                                    vector        L0x  \\\n",
      "movieId                                                                 \n",
      "1        [0.059872735, -0.36095208, -0.077433385, 0.011... -25.121387   \n",
      "2        [0.1691944, -0.062943615, -0.10992637, -0.4388... -24.079591   \n",
      "3        [0.5042098, 0.28392687, -0.12367318, -0.100494... -19.071078   \n",
      "4        [0.19736828, 0.22314307, -0.60929656, -0.52939... -24.079591   \n",
      "5        [0.52236795, 0.23525663, -0.40892157, -0.26716... -19.071078   \n",
      "\n",
      "               L0y        L1x        L1y        L2x        L2y        L3x  \\\n",
      "movieId                                                                     \n",
      "1       -14.457901 -26.261216 -17.192878 -24.556549 -19.140869 -26.546903   \n",
      "2       -40.059068 -23.398433 -37.803330 -23.793513 -38.014708 -23.621806   \n",
      "3       -33.318404 -19.104410 -34.704931 -19.565281 -36.100801 -19.259646   \n",
      "4       -40.059068 -26.348962 -42.118087 -25.380020 -41.287062 -25.380020   \n",
      "5       -33.318404 -19.104410 -34.704931 -19.565281 -36.100801 -19.259646   \n",
      "\n",
      "               L3y        L4x        L4y        L5x        L5y  count  \\\n",
      "movieId                                                                 \n",
      "1       -26.316064 -26.546903 -26.316064 -24.818191 -33.915651  49695   \n",
      "2       -37.434528 -23.729606 -36.868994 -23.699334 -36.924182  22243   \n",
      "3       -35.792775 -19.150054 -35.960445 -19.133236 -35.903725  12735   \n",
      "4       -41.287062 -25.443337 -40.919109 -25.145826 -40.735246   2756   \n",
      "5       -35.792775 -19.150054 -35.960445 -19.166872 -36.017165  12161   \n",
      "\n",
      "             mean       std  \n",
      "movieId                      \n",
      "1        3.921240  0.889012  \n",
      "2        3.211977  0.951150  \n",
      "3        3.151040  1.006642  \n",
      "4        2.861393  1.095702  \n",
      "5        3.064592  0.982140  \n"
     ]
    }
   ],
   "source": [
    "df_movies = df_movies.merge(df_rating, on=[MOVIE_ID])\n",
    "print(df_movies.head())\n",
    "# df_movies=df_movies.rename(columns={'count_x':'count'})"
   ]
  },
  {
   "cell_type": "code",
   "execution_count": 96,
   "metadata": {},
   "outputs": [],
   "source": [
    "# cols = [TITLE, GENRES, X, Y,] + cluster_names + [ MEAN, STDDEV, COUNT]\n",
    "\n",
    "del df_movies['vector']\n",
    "\n",
    "df_movies.to_csv(\n",
    "    'Movie_Data_{}.tsv'.format(model_filename), sep='\\t')"
   ]
  },
  {
   "cell_type": "code",
   "execution_count": 102,
   "metadata": {},
   "outputs": [],
   "source": [
    "# This is used to write data to Django's database\n",
    "df_output = df_movies.copy()\n",
    "df_output = df_output.rename(columns={\n",
    "    'title': 'movie_title',\n",
    "})\n",
    "df_output.index.rename('movie_id', inplace=True)\n",
    "df_output['embedder'] = model_filename"
   ]
  },
  {
   "cell_type": "code",
   "execution_count": 103,
   "metadata": {},
   "outputs": [],
   "source": [
    "# sorted(list(df_output[POSTER_URL].unique()))"
   ]
  },
  {
   "cell_type": "code",
   "execution_count": 104,
   "metadata": {},
   "outputs": [],
   "source": [
    "# Metadata\n",
    "POSTER_URL = 'poster_url'\n",
    "RUNTIME = 'runtime'\n",
    "DIRECTOR = 'director'\n",
    "ACTORS = 'actors'\n",
    "METASCORE = 'metascore'\n",
    "IMDB_RATING = 'imdb_rating'\n",
    "IMDB_VOTES = 'imdb_votes'\n",
    "\n",
    "df_output[POSTER_URL] = df_output.index.map(lambda x: dict_metadata[x]['Poster']).map(\n",
    "    lambda x: None if x == 'N/A' else x)\n",
    "df_output[RUNTIME] = df_output.index.map(\n",
    "    lambda x: dict_metadata[x]['Runtime']).map(\n",
    "    lambda x: x.replace(' min', '')).map(\n",
    "    lambda x: int(x) if x.isdigit() else None)\n",
    "df_output[DIRECTOR] = df_output.index.map(lambda x: dict_metadata[x]['Director']).map(\n",
    "lambda x: '|'.join(x.split(', ')))\n",
    "df_output[ACTORS] = df_output.index.map(lambda x: dict_metadata[x]['Actors']).map(\n",
    "lambda x: x.replace(', ', '|'))\n",
    "df_output[METASCORE] = df_output.index.map(lambda x: dict_metadata[x]['Metascore']).map(\n",
    "    lambda x: int(x) if x.isdigit() else None)\n",
    "df_output[IMDB_RATING] = df_output.index.map(lambda x: dict_metadata[x]['imdbRating']).map(\n",
    "    lambda x: float(x) if x != 'N/A' else None)\n",
    "df_output[IMDB_VOTES] = df_output.index.map(lambda x: dict_metadata[x]['imdbVotes']).map(\n",
    "    lambda x: int(x.replace(',', '')) if x != 'N/A' else None)"
   ]
  },
  {
   "cell_type": "code",
   "execution_count": 108,
   "metadata": {},
   "outputs": [],
   "source": [
    "eng = create_engine('sqlite:///cse6242_team5/db.sqlite3')\n",
    "with eng.begin() as con:\n",
    "    df_output.to_sql('movie_edge_movie', con, if_exists='append')"
   ]
  },
  {
   "cell_type": "code",
   "execution_count": 106,
   "metadata": {},
   "outputs": [
    {
     "data": {
      "text/plain": [
       "Index(['movie_title', 'genres', 'L0x', 'L0y', 'L1x', 'L1y', 'L2x', 'L2y',\n",
       "       'L3x', 'L3y', 'L4x', 'L4y', 'L5x', 'L5y', 'count', 'mean', 'std',\n",
       "       'embedder', 'poster_url', 'runtime', 'director', 'actors', 'metascore',\n",
       "       'imdb_rating', 'imdb_votes'],\n",
       "      dtype='object')"
      ]
     },
     "execution_count": 106,
     "metadata": {},
     "output_type": "execute_result"
    }
   ],
   "source": [
    "df_output.columns"
   ]
  },
  {
   "cell_type": "code",
   "execution_count": 107,
   "metadata": {},
   "outputs": [
    {
     "data": {
      "text/html": [
       "<div>\n",
       "<style scoped>\n",
       "    .dataframe tbody tr th:only-of-type {\n",
       "        vertical-align: middle;\n",
       "    }\n",
       "\n",
       "    .dataframe tbody tr th {\n",
       "        vertical-align: top;\n",
       "    }\n",
       "\n",
       "    .dataframe thead th {\n",
       "        text-align: right;\n",
       "    }\n",
       "</style>\n",
       "<table border=\"1\" class=\"dataframe\">\n",
       "  <thead>\n",
       "    <tr style=\"text-align: right;\">\n",
       "      <th></th>\n",
       "      <th>movie_title</th>\n",
       "      <th>genres</th>\n",
       "      <th>L0x</th>\n",
       "      <th>L0y</th>\n",
       "      <th>L1x</th>\n",
       "      <th>L1y</th>\n",
       "      <th>L2x</th>\n",
       "      <th>L2y</th>\n",
       "      <th>L3x</th>\n",
       "      <th>L3y</th>\n",
       "      <th>...</th>\n",
       "      <th>mean</th>\n",
       "      <th>std</th>\n",
       "      <th>embedder</th>\n",
       "      <th>poster_url</th>\n",
       "      <th>runtime</th>\n",
       "      <th>director</th>\n",
       "      <th>actors</th>\n",
       "      <th>metascore</th>\n",
       "      <th>imdb_rating</th>\n",
       "      <th>imdb_votes</th>\n",
       "    </tr>\n",
       "    <tr>\n",
       "      <th>movie_id</th>\n",
       "      <th></th>\n",
       "      <th></th>\n",
       "      <th></th>\n",
       "      <th></th>\n",
       "      <th></th>\n",
       "      <th></th>\n",
       "      <th></th>\n",
       "      <th></th>\n",
       "      <th></th>\n",
       "      <th></th>\n",
       "      <th></th>\n",
       "      <th></th>\n",
       "      <th></th>\n",
       "      <th></th>\n",
       "      <th></th>\n",
       "      <th></th>\n",
       "      <th></th>\n",
       "      <th></th>\n",
       "      <th></th>\n",
       "      <th></th>\n",
       "      <th></th>\n",
       "    </tr>\n",
       "  </thead>\n",
       "  <tbody>\n",
       "    <tr>\n",
       "      <th>1</th>\n",
       "      <td>Toy Story (1995)</td>\n",
       "      <td>Adventure|Animation|Children|Comedy|Fantasy</td>\n",
       "      <td>-25.121387</td>\n",
       "      <td>-14.457901</td>\n",
       "      <td>-26.261216</td>\n",
       "      <td>-17.192878</td>\n",
       "      <td>-24.556549</td>\n",
       "      <td>-19.140869</td>\n",
       "      <td>-26.546903</td>\n",
       "      <td>-26.316064</td>\n",
       "      <td>...</td>\n",
       "      <td>3.921240</td>\n",
       "      <td>0.889012</td>\n",
       "      <td>w2v_vs_64_sg_1_hs_1_mc_1_it_4_wn_32_ng_2_all_d...</td>\n",
       "      <td>https://m.media-amazon.com/images/M/MV5BMDU2ZW...</td>\n",
       "      <td>81.0</td>\n",
       "      <td>John Lasseter</td>\n",
       "      <td>Tom Hanks|Tim Allen|Don Rickles|Jim Varney</td>\n",
       "      <td>95.0</td>\n",
       "      <td>8.3</td>\n",
       "      <td>810875.0</td>\n",
       "    </tr>\n",
       "    <tr>\n",
       "      <th>2</th>\n",
       "      <td>Jumanji (1995)</td>\n",
       "      <td>Adventure|Children|Fantasy</td>\n",
       "      <td>-24.079591</td>\n",
       "      <td>-40.059068</td>\n",
       "      <td>-23.398433</td>\n",
       "      <td>-37.803330</td>\n",
       "      <td>-23.793513</td>\n",
       "      <td>-38.014708</td>\n",
       "      <td>-23.621806</td>\n",
       "      <td>-37.434528</td>\n",
       "      <td>...</td>\n",
       "      <td>3.211977</td>\n",
       "      <td>0.951150</td>\n",
       "      <td>w2v_vs_64_sg_1_hs_1_mc_1_it_4_wn_32_ng_2_all_d...</td>\n",
       "      <td>https://m.media-amazon.com/images/M/MV5BZTk2Zm...</td>\n",
       "      <td>104.0</td>\n",
       "      <td>Joe Johnston</td>\n",
       "      <td>Robin Williams|Jonathan Hyde|Kirsten Dunst|Bra...</td>\n",
       "      <td>39.0</td>\n",
       "      <td>7.0</td>\n",
       "      <td>274701.0</td>\n",
       "    </tr>\n",
       "    <tr>\n",
       "      <th>3</th>\n",
       "      <td>Grumpier Old Men (1995)</td>\n",
       "      <td>Comedy|Romance</td>\n",
       "      <td>-19.071078</td>\n",
       "      <td>-33.318404</td>\n",
       "      <td>-19.104410</td>\n",
       "      <td>-34.704931</td>\n",
       "      <td>-19.565281</td>\n",
       "      <td>-36.100801</td>\n",
       "      <td>-19.259646</td>\n",
       "      <td>-35.792775</td>\n",
       "      <td>...</td>\n",
       "      <td>3.151040</td>\n",
       "      <td>1.006642</td>\n",
       "      <td>w2v_vs_64_sg_1_hs_1_mc_1_it_4_wn_32_ng_2_all_d...</td>\n",
       "      <td>https://m.media-amazon.com/images/M/MV5BMjQxM2...</td>\n",
       "      <td>101.0</td>\n",
       "      <td>Howard Deutch</td>\n",
       "      <td>Walter Matthau|Jack Lemmon|Sophia Loren|Ann-Ma...</td>\n",
       "      <td>46.0</td>\n",
       "      <td>6.6</td>\n",
       "      <td>22581.0</td>\n",
       "    </tr>\n",
       "    <tr>\n",
       "      <th>4</th>\n",
       "      <td>Waiting to Exhale (1995)</td>\n",
       "      <td>Comedy|Drama|Romance</td>\n",
       "      <td>-24.079591</td>\n",
       "      <td>-40.059068</td>\n",
       "      <td>-26.348962</td>\n",
       "      <td>-42.118087</td>\n",
       "      <td>-25.380020</td>\n",
       "      <td>-41.287062</td>\n",
       "      <td>-25.380020</td>\n",
       "      <td>-41.287062</td>\n",
       "      <td>...</td>\n",
       "      <td>2.861393</td>\n",
       "      <td>1.095702</td>\n",
       "      <td>w2v_vs_64_sg_1_hs_1_mc_1_it_4_wn_32_ng_2_all_d...</td>\n",
       "      <td>https://m.media-amazon.com/images/M/MV5BYzcyMD...</td>\n",
       "      <td>124.0</td>\n",
       "      <td>Forest Whitaker</td>\n",
       "      <td>Whitney Houston|Angela Bassett|Loretta Devine|...</td>\n",
       "      <td>NaN</td>\n",
       "      <td>5.9</td>\n",
       "      <td>8833.0</td>\n",
       "    </tr>\n",
       "    <tr>\n",
       "      <th>5</th>\n",
       "      <td>Father of the Bride Part II (1995)</td>\n",
       "      <td>Comedy</td>\n",
       "      <td>-19.071078</td>\n",
       "      <td>-33.318404</td>\n",
       "      <td>-19.104410</td>\n",
       "      <td>-34.704931</td>\n",
       "      <td>-19.565281</td>\n",
       "      <td>-36.100801</td>\n",
       "      <td>-19.259646</td>\n",
       "      <td>-35.792775</td>\n",
       "      <td>...</td>\n",
       "      <td>3.064592</td>\n",
       "      <td>0.982140</td>\n",
       "      <td>w2v_vs_64_sg_1_hs_1_mc_1_it_4_wn_32_ng_2_all_d...</td>\n",
       "      <td>https://m.media-amazon.com/images/M/MV5BOTEyNz...</td>\n",
       "      <td>106.0</td>\n",
       "      <td>Charles Shyer</td>\n",
       "      <td>Steve Martin|Diane Keaton|Martin Short|Kimberl...</td>\n",
       "      <td>49.0</td>\n",
       "      <td>6.0</td>\n",
       "      <td>31738.0</td>\n",
       "    </tr>\n",
       "  </tbody>\n",
       "</table>\n",
       "<p>5 rows × 25 columns</p>\n",
       "</div>"
      ],
      "text/plain": [
       "                                 movie_title  \\\n",
       "movie_id                                       \n",
       "1                           Toy Story (1995)   \n",
       "2                             Jumanji (1995)   \n",
       "3                    Grumpier Old Men (1995)   \n",
       "4                   Waiting to Exhale (1995)   \n",
       "5         Father of the Bride Part II (1995)   \n",
       "\n",
       "                                               genres        L0x        L0y  \\\n",
       "movie_id                                                                      \n",
       "1         Adventure|Animation|Children|Comedy|Fantasy -25.121387 -14.457901   \n",
       "2                          Adventure|Children|Fantasy -24.079591 -40.059068   \n",
       "3                                      Comedy|Romance -19.071078 -33.318404   \n",
       "4                                Comedy|Drama|Romance -24.079591 -40.059068   \n",
       "5                                              Comedy -19.071078 -33.318404   \n",
       "\n",
       "                L1x        L1y        L2x        L2y        L3x        L3y  \\\n",
       "movie_id                                                                     \n",
       "1        -26.261216 -17.192878 -24.556549 -19.140869 -26.546903 -26.316064   \n",
       "2        -23.398433 -37.803330 -23.793513 -38.014708 -23.621806 -37.434528   \n",
       "3        -19.104410 -34.704931 -19.565281 -36.100801 -19.259646 -35.792775   \n",
       "4        -26.348962 -42.118087 -25.380020 -41.287062 -25.380020 -41.287062   \n",
       "5        -19.104410 -34.704931 -19.565281 -36.100801 -19.259646 -35.792775   \n",
       "\n",
       "          ...      mean       std  \\\n",
       "movie_id  ...                       \n",
       "1         ...  3.921240  0.889012   \n",
       "2         ...  3.211977  0.951150   \n",
       "3         ...  3.151040  1.006642   \n",
       "4         ...  2.861393  1.095702   \n",
       "5         ...  3.064592  0.982140   \n",
       "\n",
       "                                                   embedder  \\\n",
       "movie_id                                                      \n",
       "1         w2v_vs_64_sg_1_hs_1_mc_1_it_4_wn_32_ng_2_all_d...   \n",
       "2         w2v_vs_64_sg_1_hs_1_mc_1_it_4_wn_32_ng_2_all_d...   \n",
       "3         w2v_vs_64_sg_1_hs_1_mc_1_it_4_wn_32_ng_2_all_d...   \n",
       "4         w2v_vs_64_sg_1_hs_1_mc_1_it_4_wn_32_ng_2_all_d...   \n",
       "5         w2v_vs_64_sg_1_hs_1_mc_1_it_4_wn_32_ng_2_all_d...   \n",
       "\n",
       "                                                 poster_url  runtime  \\\n",
       "movie_id                                                               \n",
       "1         https://m.media-amazon.com/images/M/MV5BMDU2ZW...     81.0   \n",
       "2         https://m.media-amazon.com/images/M/MV5BZTk2Zm...    104.0   \n",
       "3         https://m.media-amazon.com/images/M/MV5BMjQxM2...    101.0   \n",
       "4         https://m.media-amazon.com/images/M/MV5BYzcyMD...    124.0   \n",
       "5         https://m.media-amazon.com/images/M/MV5BOTEyNz...    106.0   \n",
       "\n",
       "                 director                                             actors  \\\n",
       "movie_id                                                                       \n",
       "1           John Lasseter         Tom Hanks|Tim Allen|Don Rickles|Jim Varney   \n",
       "2            Joe Johnston  Robin Williams|Jonathan Hyde|Kirsten Dunst|Bra...   \n",
       "3           Howard Deutch  Walter Matthau|Jack Lemmon|Sophia Loren|Ann-Ma...   \n",
       "4         Forest Whitaker  Whitney Houston|Angela Bassett|Loretta Devine|...   \n",
       "5           Charles Shyer  Steve Martin|Diane Keaton|Martin Short|Kimberl...   \n",
       "\n",
       "         metascore imdb_rating  imdb_votes  \n",
       "movie_id                                    \n",
       "1             95.0         8.3    810875.0  \n",
       "2             39.0         7.0    274701.0  \n",
       "3             46.0         6.6     22581.0  \n",
       "4              NaN         5.9      8833.0  \n",
       "5             49.0         6.0     31738.0  \n",
       "\n",
       "[5 rows x 25 columns]"
      ]
     },
     "execution_count": 107,
     "metadata": {},
     "output_type": "execute_result"
    }
   ],
   "source": [
    "df_output.head()\n"
   ]
  },
  {
   "cell_type": "code",
   "execution_count": null,
   "metadata": {},
   "outputs": [],
   "source": []
  }
 ],
 "metadata": {
  "kernelspec": {
   "display_name": "Python 3",
   "language": "python",
   "name": "python3"
  },
  "language_info": {
   "codemirror_mode": {
    "name": "ipython",
    "version": 3
   },
   "file_extension": ".py",
   "mimetype": "text/x-python",
   "name": "python",
   "nbconvert_exporter": "python",
   "pygments_lexer": "ipython3",
   "version": "3.7.5"
  }
 },
 "nbformat": 4,
 "nbformat_minor": 2
}
