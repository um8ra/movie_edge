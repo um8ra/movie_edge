{
 "cells": [
  {
   "cell_type": "code",
   "execution_count": 1,
   "metadata": {},
   "outputs": [],
   "source": [
    "from gensim.models import Word2Vec\n",
    "import pandas as pd\n",
    "import os\n",
    "import numpy as np\n",
    "import sys\n",
    "from bokeh.plotting import figure, output_file, show\n",
    "from bokeh.models import ColumnDataSource\n",
    "from sklearn.cluster import AgglomerativeClustering\n",
    "from bokeh import palettes\n",
    "from sqlalchemy import create_engine\n",
    "import pickle\n",
    "\n",
    "# Installation (if fast = True below):\n",
    "# https://pypi.org/project/fitsne/0.1.10/\n",
    "# I'm unsure if the fftw.org part (below) is needed, \n",
    "# or if the pip commands listed on the pypi link \n",
    "# are enough to get it working (and get it working on multiple cores).\n",
    "# Download and execute:\n",
    "# http://fftw.org/install/mac.html with commands below\n",
    "# $./configure --enable-threads && make\n",
    "# $ sudo make install\n",
    "# You NEED to clone https://github.com/KlugerLab/FIt-SNE\n",
    "# Then you NEED to execute\n",
    "# g++ -std=c++11 -O3  src/sptree.cpp src/tsne.cpp src/nbodyfft.cpp  -o bin/fast_tsne -pthread -lfftw3 -lm\n",
    "# Then you NEED to add the repository path (which will have your compiled code in ./bin)\n",
    "# to sys as shown on the next lines\n",
    "\n",
    "fast = True\n",
    "if fast:\n",
    "    sys.path.append('/Users/danielklass/Dropbox/GaTech/cse6242_project/FIt-SNE')\n",
    "    from fast_tsne import fast_tsne # O(N) via FFT, see all the comments above...\n",
    "else:\n",
    "    from sklearn.manifold import TSNE # O(Nlog(N))"
   ]
  },
  {
   "cell_type": "code",
   "execution_count": 2,
   "metadata": {},
   "outputs": [],
   "source": [
    "RAND = 4\n",
    "workers = os.cpu_count() - 2"
   ]
  },
  {
   "cell_type": "code",
   "execution_count": 3,
   "metadata": {},
   "outputs": [],
   "source": [
    "MOVIE_ID = 'movieId'\n",
    "TITLE = 'title'\n",
    "RATING = 'rating'\n",
    "VECTOR = 'vector'\n",
    "GENRES = 'genres'\n",
    "MEAN = 'mean'\n",
    "COUNT = 'count'\n",
    "STDDEV = 'std'\n",
    "X = 'x'\n",
    "Y = 'y'\n",
    "CLUSTER = 'cluster'\n",
    "COLOR = 'color'"
   ]
  },
  {
   "cell_type": "code",
   "execution_count": 4,
   "metadata": {},
   "outputs": [],
   "source": [
    "model_filename = 'w2v_vs_64_sg_1_hs_1_mc_1_it_4_wn_32_ng_2_all_data_trg_val_tst.gensim'\n",
    "model = Word2Vec.load(os.path.join('gensim_models2', model_filename))"
   ]
  },
  {
   "cell_type": "code",
   "execution_count": 5,
   "metadata": {},
   "outputs": [],
   "source": [
    "with open('metadata.pkl', 'rb') as f:\n",
    "    dict_metadata = pickle.load(f)"
   ]
  },
  {
   "cell_type": "code",
   "execution_count": 6,
   "metadata": {},
   "outputs": [
    {
     "data": {
      "text/plain": [
       "{'Title': 'Toy Story',\n",
       " 'Year': '1995',\n",
       " 'Rated': 'G',\n",
       " 'Released': '22 Nov 1995',\n",
       " 'Runtime': '81 min',\n",
       " 'Genre': 'Animation, Adventure, Comedy, Family, Fantasy',\n",
       " 'Director': 'John Lasseter',\n",
       " 'Writer': 'John Lasseter (original story by), Pete Docter (original story by), Andrew Stanton (original story by), Joe Ranft (original story by), Joss Whedon (screenplay by), Andrew Stanton (screenplay by), Joel Cohen (screenplay by), Alec Sokolow (screenplay by)',\n",
       " 'Actors': 'Tom Hanks, Tim Allen, Don Rickles, Jim Varney',\n",
       " 'Plot': 'A little boy named Andy loves to be in his room, playing with his toys, especially his doll named \"Woody\". But, what do the toys do when Andy is not with them, they come to life. Woody believes that he has life (as a toy) good. However, he must worry about Andy\\'s family moving, and what Woody does not know is about Andy\\'s birthday party. Woody does not realize that Andy\\'s mother gave him an action figure known as Buzz Lightyear, who does not believe that he is a toy, and quickly becomes Andy\\'s new favorite toy. Woody, who is now consumed with jealousy, tries to get rid of Buzz. Then, both Woody and Buzz are now lost. They must find a way to get back to Andy before he moves without them, but they will have to pass through a ruthless toy killer, Sid Phillips.',\n",
       " 'Language': 'English',\n",
       " 'Country': 'USA',\n",
       " 'Awards': 'Nominated for 3 Oscars. Another 23 wins & 17 nominations.',\n",
       " 'Poster': 'https://m.media-amazon.com/images/M/MV5BMDU2ZWJlMjktMTRhMy00ZTA5LWEzNDgtYmNmZTEwZTViZWJkXkEyXkFqcGdeQXVyNDQ2OTk4MzI@._V1_SX300.jpg',\n",
       " 'Ratings': [{'Source': 'Internet Movie Database', 'Value': '8.3/10'},\n",
       "  {'Source': 'Rotten Tomatoes', 'Value': '100%'},\n",
       "  {'Source': 'Metacritic', 'Value': '95/100'}],\n",
       " 'Metascore': '95',\n",
       " 'imdbRating': '8.3',\n",
       " 'imdbVotes': '810,875',\n",
       " 'imdbID': 'tt0114709',\n",
       " 'Type': 'movie',\n",
       " 'DVD': '20 Mar 2001',\n",
       " 'BoxOffice': 'N/A',\n",
       " 'Production': 'Buena Vista',\n",
       " 'Website': 'http://www.disney.com/ToyStory',\n",
       " 'Response': 'True',\n",
       " 'MovieLensGenres': 'Adventure|Animation|Children|Comedy|Fantasy',\n",
       " 'top10Tags': tagId\n",
       " imdb top 250          0.94200\n",
       " cartoon               0.95650\n",
       " children              0.96425\n",
       " pixar                 0.96675\n",
       " kids                  0.97925\n",
       " animation             0.98575\n",
       " kids and family       0.99075\n",
       " pixar animation       0.99600\n",
       " computer animation    0.99850\n",
       " toys                  0.99925\n",
       " Name: 1, dtype: float64}"
      ]
     },
     "execution_count": 6,
     "metadata": {},
     "output_type": "execute_result"
    }
   ],
   "source": [
    "dict_metadata[1]"
   ]
  },
  {
   "cell_type": "code",
   "execution_count": 7,
   "metadata": {},
   "outputs": [],
   "source": [
    "df_movies = pd.read_csv('ml-20m/movies.csv', index_col=MOVIE_ID)"
   ]
  },
  {
   "cell_type": "code",
   "execution_count": 8,
   "metadata": {},
   "outputs": [],
   "source": [
    "df_rating = pd.read_csv('ml-20m/ratings.csv')\n",
    "df_rating = df_rating.groupby([MOVIE_ID])[RATING].agg(['count', 'mean', 'std'])"
   ]
  },
  {
   "cell_type": "code",
   "execution_count": 9,
   "metadata": {},
   "outputs": [],
   "source": [
    "def get_movie_vector(i):\n",
    "    try:\n",
    "        return model.wv.get_vector(str(i))\n",
    "    except KeyError:\n",
    "        return np.nan"
   ]
  },
  {
   "cell_type": "code",
   "execution_count": 10,
   "metadata": {},
   "outputs": [],
   "source": [
    "df_movies[VECTOR] = df_movies.index.get_level_values(MOVIE_ID).map(get_movie_vector)"
   ]
  },
  {
   "cell_type": "code",
   "execution_count": 11,
   "metadata": {},
   "outputs": [
    {
     "data": {
      "text/plain": [
       "27278"
      ]
     },
     "execution_count": 11,
     "metadata": {},
     "output_type": "execute_result"
    }
   ],
   "source": [
    "len(df_movies)"
   ]
  },
  {
   "cell_type": "code",
   "execution_count": 12,
   "metadata": {},
   "outputs": [],
   "source": [
    "df_movies = df_movies[pd.notnull(df_movies[VECTOR])].copy()"
   ]
  },
  {
   "cell_type": "code",
   "execution_count": 13,
   "metadata": {},
   "outputs": [
    {
     "data": {
      "text/plain": [
       "23892"
      ]
     },
     "execution_count": 13,
     "metadata": {},
     "output_type": "execute_result"
    }
   ],
   "source": [
    "len(df_movies)"
   ]
  },
  {
   "cell_type": "code",
   "execution_count": 14,
   "metadata": {},
   "outputs": [],
   "source": [
    "vectors = df_movies[VECTOR].to_numpy()"
   ]
  },
  {
   "cell_type": "code",
   "execution_count": 15,
   "metadata": {},
   "outputs": [],
   "source": [
    "vectors = np.vstack(vectors)"
   ]
  },
  {
   "cell_type": "code",
   "execution_count": 16,
   "metadata": {},
   "outputs": [],
   "source": [
    "clustering = AgglomerativeClustering(\n",
    "    n_clusters=20,\n",
    "    linkage='ward',\n",
    ")\n",
    "clusters = clustering.fit(vectors)"
   ]
  },
  {
   "cell_type": "code",
   "execution_count": 17,
   "metadata": {},
   "outputs": [],
   "source": [
    "if fast:\n",
    "    # strongly recommended, fast O(N)\n",
    "    tsne_result = fast_tsne(vectors, seed=RAND, nthreads=workers)\n",
    "else:\n",
    "    # never finished, slow O(Nlog(N))\n",
    "    tsne_result = TSNE(vectors, random_state=RAND)"
   ]
  },
  {
   "cell_type": "code",
   "execution_count": 18,
   "metadata": {},
   "outputs": [],
   "source": [
    "df_movies[X] = tsne_result[:, 0]\n",
    "df_movies[Y] = tsne_result[:, 1]"
   ]
  },
  {
   "cell_type": "code",
   "execution_count": 19,
   "metadata": {},
   "outputs": [],
   "source": [
    "palette = palettes.Category20_20"
   ]
  },
  {
   "cell_type": "code",
   "execution_count": 20,
   "metadata": {},
   "outputs": [
    {
     "data": {
      "text/plain": [
       "(23891, 2)"
      ]
     },
     "execution_count": 20,
     "metadata": {},
     "output_type": "execute_result"
    }
   ],
   "source": [
    "clusters.children_.shape"
   ]
  },
  {
   "cell_type": "code",
   "execution_count": 21,
   "metadata": {},
   "outputs": [
    {
     "data": {
      "text/plain": [
       "23892"
      ]
     },
     "execution_count": 21,
     "metadata": {},
     "output_type": "execute_result"
    }
   ],
   "source": [
    "len(df_movies)"
   ]
  },
  {
   "cell_type": "code",
   "execution_count": 22,
   "metadata": {},
   "outputs": [],
   "source": [
    "df_movies[CLUSTER] = clusters.labels_\n",
    "df_movies[COLOR] = df_movies[CLUSTER].map(lambda x: palette[x])"
   ]
  },
  {
   "cell_type": "code",
   "execution_count": 23,
   "metadata": {},
   "outputs": [
    {
     "data": {
      "text/html": [
       "<div style=\"display: table;\"><div style=\"display: table-row;\"><div style=\"display: table-cell;\"><b title=\"bokeh.models.renderers.GlyphRenderer\">GlyphRenderer</b>(</div><div style=\"display: table-cell;\">id&nbsp;=&nbsp;'1039', <span id=\"1042\" style=\"cursor: pointer;\">&hellip;)</span></div></div><div class=\"1041\" style=\"display: none;\"><div style=\"display: table-cell;\"></div><div style=\"display: table-cell;\">data_source&nbsp;=&nbsp;ColumnDataSource(id='1001', ...),</div></div><div class=\"1041\" style=\"display: none;\"><div style=\"display: table-cell;\"></div><div style=\"display: table-cell;\">glyph&nbsp;=&nbsp;Circle(id='1037', ...),</div></div><div class=\"1041\" style=\"display: none;\"><div style=\"display: table-cell;\"></div><div style=\"display: table-cell;\">hover_glyph&nbsp;=&nbsp;None,</div></div><div class=\"1041\" style=\"display: none;\"><div style=\"display: table-cell;\"></div><div style=\"display: table-cell;\">js_event_callbacks&nbsp;=&nbsp;{},</div></div><div class=\"1041\" style=\"display: none;\"><div style=\"display: table-cell;\"></div><div style=\"display: table-cell;\">js_property_callbacks&nbsp;=&nbsp;{},</div></div><div class=\"1041\" style=\"display: none;\"><div style=\"display: table-cell;\"></div><div style=\"display: table-cell;\">level&nbsp;=&nbsp;'glyph',</div></div><div class=\"1041\" style=\"display: none;\"><div style=\"display: table-cell;\"></div><div style=\"display: table-cell;\">muted&nbsp;=&nbsp;False,</div></div><div class=\"1041\" style=\"display: none;\"><div style=\"display: table-cell;\"></div><div style=\"display: table-cell;\">muted_glyph&nbsp;=&nbsp;None,</div></div><div class=\"1041\" style=\"display: none;\"><div style=\"display: table-cell;\"></div><div style=\"display: table-cell;\">name&nbsp;=&nbsp;None,</div></div><div class=\"1041\" style=\"display: none;\"><div style=\"display: table-cell;\"></div><div style=\"display: table-cell;\">nonselection_glyph&nbsp;=&nbsp;Circle(id='1038', ...),</div></div><div class=\"1041\" style=\"display: none;\"><div style=\"display: table-cell;\"></div><div style=\"display: table-cell;\">selection_glyph&nbsp;=&nbsp;None,</div></div><div class=\"1041\" style=\"display: none;\"><div style=\"display: table-cell;\"></div><div style=\"display: table-cell;\">subscribed_events&nbsp;=&nbsp;[],</div></div><div class=\"1041\" style=\"display: none;\"><div style=\"display: table-cell;\"></div><div style=\"display: table-cell;\">tags&nbsp;=&nbsp;[],</div></div><div class=\"1041\" style=\"display: none;\"><div style=\"display: table-cell;\"></div><div style=\"display: table-cell;\">view&nbsp;=&nbsp;CDSView(id='1040', ...),</div></div><div class=\"1041\" style=\"display: none;\"><div style=\"display: table-cell;\"></div><div style=\"display: table-cell;\">visible&nbsp;=&nbsp;True,</div></div><div class=\"1041\" style=\"display: none;\"><div style=\"display: table-cell;\"></div><div style=\"display: table-cell;\">x_range_name&nbsp;=&nbsp;'default',</div></div><div class=\"1041\" style=\"display: none;\"><div style=\"display: table-cell;\"></div><div style=\"display: table-cell;\">y_range_name&nbsp;=&nbsp;'default')</div></div></div>\n",
       "<script>\n",
       "(function() {\n",
       "  var expanded = false;\n",
       "  var ellipsis = document.getElementById(\"1042\");\n",
       "  ellipsis.addEventListener(\"click\", function() {\n",
       "    var rows = document.getElementsByClassName(\"1041\");\n",
       "    for (var i = 0; i < rows.length; i++) {\n",
       "      var el = rows[i];\n",
       "      el.style.display = expanded ? \"none\" : \"table-row\";\n",
       "    }\n",
       "    ellipsis.innerHTML = expanded ? \"&hellip;)\" : \"&lsaquo;&lsaquo;&lsaquo;\";\n",
       "    expanded = !expanded;\n",
       "  });\n",
       "})();\n",
       "</script>\n"
      ],
      "text/plain": [
       "GlyphRenderer(id='1039', ...)"
      ]
     },
     "execution_count": 23,
     "metadata": {},
     "output_type": "execute_result"
    }
   ],
   "source": [
    "source = ColumnDataSource(df_movies)\n",
    "TOOLTIPS = [(i, '@{}'.format(i)) for i in [MOVIE_ID, TITLE, X, Y]]\n",
    "fig = figure(plot_width=800, plot_height=800, tooltips=TOOLTIPS, output_backend='webgl')\n",
    "fig.circle('x', 'y', source=source, size=8, color=COLOR)"
   ]
  },
  {
   "cell_type": "code",
   "execution_count": 24,
   "metadata": {},
   "outputs": [],
   "source": [
    "output_file('bokeh_{}.html'.format(model_filename), title=model_filename, mode='cdn')"
   ]
  },
  {
   "cell_type": "code",
   "execution_count": 25,
   "metadata": {},
   "outputs": [],
   "source": [
    "show(fig)"
   ]
  },
  {
   "cell_type": "code",
   "execution_count": 26,
   "metadata": {},
   "outputs": [
    {
     "data": {
      "text/html": [
       "<div>\n",
       "<style scoped>\n",
       "    .dataframe tbody tr th:only-of-type {\n",
       "        vertical-align: middle;\n",
       "    }\n",
       "\n",
       "    .dataframe tbody tr th {\n",
       "        vertical-align: top;\n",
       "    }\n",
       "\n",
       "    .dataframe thead th {\n",
       "        text-align: right;\n",
       "    }\n",
       "</style>\n",
       "<table border=\"1\" class=\"dataframe\">\n",
       "  <thead>\n",
       "    <tr style=\"text-align: right;\">\n",
       "      <th></th>\n",
       "      <th>count</th>\n",
       "      <th>mean</th>\n",
       "      <th>std</th>\n",
       "    </tr>\n",
       "    <tr>\n",
       "      <th>movieId</th>\n",
       "      <th></th>\n",
       "      <th></th>\n",
       "      <th></th>\n",
       "    </tr>\n",
       "  </thead>\n",
       "  <tbody>\n",
       "    <tr>\n",
       "      <th>1</th>\n",
       "      <td>49695</td>\n",
       "      <td>3.921240</td>\n",
       "      <td>0.889012</td>\n",
       "    </tr>\n",
       "    <tr>\n",
       "      <th>2</th>\n",
       "      <td>22243</td>\n",
       "      <td>3.211977</td>\n",
       "      <td>0.951150</td>\n",
       "    </tr>\n",
       "    <tr>\n",
       "      <th>3</th>\n",
       "      <td>12735</td>\n",
       "      <td>3.151040</td>\n",
       "      <td>1.006642</td>\n",
       "    </tr>\n",
       "    <tr>\n",
       "      <th>4</th>\n",
       "      <td>2756</td>\n",
       "      <td>2.861393</td>\n",
       "      <td>1.095702</td>\n",
       "    </tr>\n",
       "    <tr>\n",
       "      <th>5</th>\n",
       "      <td>12161</td>\n",
       "      <td>3.064592</td>\n",
       "      <td>0.982140</td>\n",
       "    </tr>\n",
       "  </tbody>\n",
       "</table>\n",
       "</div>"
      ],
      "text/plain": [
       "         count      mean       std\n",
       "movieId                           \n",
       "1        49695  3.921240  0.889012\n",
       "2        22243  3.211977  0.951150\n",
       "3        12735  3.151040  1.006642\n",
       "4         2756  2.861393  1.095702\n",
       "5        12161  3.064592  0.982140"
      ]
     },
     "execution_count": 26,
     "metadata": {},
     "output_type": "execute_result"
    }
   ],
   "source": [
    "df_rating.head()"
   ]
  },
  {
   "cell_type": "code",
   "execution_count": 27,
   "metadata": {},
   "outputs": [],
   "source": [
    "df_movies = df_movies.merge(df_rating, on=[MOVIE_ID])"
   ]
  },
  {
   "cell_type": "code",
   "execution_count": 28,
   "metadata": {},
   "outputs": [],
   "source": [
    "df_movies[[TITLE, GENRES, X, Y, CLUSTER, COLOR, MEAN, STDDEV, COUNT]].to_csv(\n",
    "    'Movie_Data_{}.tsv'.format(model_filename), sep='\\t')"
   ]
  },
  {
   "cell_type": "code",
   "execution_count": 29,
   "metadata": {},
   "outputs": [],
   "source": [
    "# This is used to write data to Django's database\n",
    "df_output = df_movies[[TITLE, GENRES, X, Y, CLUSTER, MEAN, STDDEV, COUNT]]\n",
    "df_output = df_output.rename(columns={\n",
    "    'title': 'movie_title',\n",
    "})\n",
    "df_output.index.rename('movie_id', inplace=True)\n",
    "df_output['embedder'] = model_filename"
   ]
  },
  {
   "cell_type": "code",
   "execution_count": 35,
   "metadata": {},
   "outputs": [
    {
     "ename": "TypeError",
     "evalue": "'<' not supported between instances of 'NoneType' and 'str'",
     "output_type": "error",
     "traceback": [
      "\u001b[0;31m---------------------------------------------------------------------------\u001b[0m",
      "\u001b[0;31mTypeError\u001b[0m                                 Traceback (most recent call last)",
      "\u001b[0;32m<ipython-input-35-206485312365>\u001b[0m in \u001b[0;36m<module>\u001b[0;34m\u001b[0m\n\u001b[0;32m----> 1\u001b[0;31m \u001b[0msorted\u001b[0m\u001b[0;34m(\u001b[0m\u001b[0mlist\u001b[0m\u001b[0;34m(\u001b[0m\u001b[0mdf_output\u001b[0m\u001b[0;34m[\u001b[0m\u001b[0mPOSTER_URL\u001b[0m\u001b[0;34m]\u001b[0m\u001b[0;34m.\u001b[0m\u001b[0munique\u001b[0m\u001b[0;34m(\u001b[0m\u001b[0;34m)\u001b[0m\u001b[0;34m)\u001b[0m\u001b[0;34m)\u001b[0m\u001b[0;34m\u001b[0m\u001b[0;34m\u001b[0m\u001b[0m\n\u001b[0m",
      "\u001b[0;31mTypeError\u001b[0m: '<' not supported between instances of 'NoneType' and 'str'"
     ]
    }
   ],
   "source": [
    "sorted(list(df_output[POSTER_URL].unique()))"
   ]
  },
  {
   "cell_type": "code",
   "execution_count": 34,
   "metadata": {},
   "outputs": [],
   "source": [
    "# Metadata\n",
    "POSTER_URL = 'poster_url'\n",
    "RUNTIME = 'runtime'\n",
    "DIRECTOR = 'director'\n",
    "ACTORS = 'actors'\n",
    "METASCORE = 'metascore'\n",
    "IMDB_RATING = 'imdb_rating'\n",
    "IMDB_VOTES = 'imdb_votes'\n",
    "\n",
    "df_output[POSTER_URL] = df_output.index.map(lambda x: dict_metadata[x]['Poster']).map(\n",
    "    lambda x: None if x == 'N/A' else x)\n",
    "df_output[RUNTIME] = df_output.index.map(\n",
    "    lambda x: dict_metadata[x]['Runtime']).map(\n",
    "    lambda x: x.replace(' min', '')).map(\n",
    "    lambda x: int(x) if x.isdigit() else None)\n",
    "df_output[DIRECTOR] = df_output.index.map(lambda x: dict_metadata[x]['Director']).map(\n",
    "lambda x: '|'.join(x.split(', ')))\n",
    "df_output[ACTORS] = df_output.index.map(lambda x: dict_metadata[x]['Actors']).map(\n",
    "lambda x: x.replace(', ', '|'))\n",
    "df_output[METASCORE] = df_output.index.map(lambda x: dict_metadata[x]['Metascore']).map(\n",
    "    lambda x: int(x) if x.isdigit() else None)\n",
    "df_output[IMDB_RATING] = df_output.index.map(lambda x: dict_metadata[x]['imdbRating']).map(\n",
    "    lambda x: float(x) if x != 'N/A' else None)\n",
    "df_output[IMDB_VOTES] = df_output.index.map(lambda x: dict_metadata[x]['imdbVotes']).map(\n",
    "    lambda x: int(x.replace(',', '')) if x != 'N/A' else None)"
   ]
  },
  {
   "cell_type": "code",
   "execution_count": 38,
   "metadata": {},
   "outputs": [],
   "source": [
    "eng = create_engine('sqlite:///cse6242_team5/db.sqlite3')\n",
    "with eng.begin() as con:\n",
    "    df_output.to_sql('movie_edge_movie', con, if_exists='append')"
   ]
  },
  {
   "cell_type": "code",
   "execution_count": null,
   "metadata": {},
   "outputs": [],
   "source": []
  }
 ],
 "metadata": {
  "kernelspec": {
   "display_name": "Python 3",
   "language": "python",
   "name": "python3"
  },
  "language_info": {
   "codemirror_mode": {
    "name": "ipython",
    "version": 3
   },
   "file_extension": ".py",
   "mimetype": "text/x-python",
   "name": "python",
   "nbconvert_exporter": "python",
   "pygments_lexer": "ipython3",
   "version": "3.7.3"
  }
 },
 "nbformat": 4,
 "nbformat_minor": 2
}
